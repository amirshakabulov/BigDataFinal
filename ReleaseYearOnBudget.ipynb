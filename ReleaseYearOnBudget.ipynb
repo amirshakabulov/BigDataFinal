{
 "cells": [
  {
   "cell_type": "code",
   "execution_count": 4,
   "id": "976db8d4",
   "metadata": {},
   "outputs": [],
   "source": [
    "# ReleaseYearOnBudget.py\n",
    "# Mason Sipe\n",
    "#\n",
    "# The purpose of this file is to show the analysis of the data on how the year of the release on the specific \n",
    "# movie may have had an impact on the budget.\n",
    "# \n",
    "# This can be accomplished by calculating the average of each movie at a specific time period and comparing the budget of \n",
    "# each movie to that average to see how it compares to other entries within the dataset.\n",
    "\n",
    "# need to import to use pyspark\n",
    "from pyspark.sql import Row\n",
    " \n",
    "# need to import for session creation\n",
    "from pyspark.sql import SparkSession\n",
    " \n",
    "# creating the session\n",
    "spark = SparkSession.builder.appName(\"ReleaseYearOnBudget\").getOrCreate()\n",
    "\n",
    "# read data from a specific file\n",
    "df = spark.read.text(\"movies.csv\")\n",
    "\n"
   ]
  }
 ],
 "metadata": {
  "kernelspec": {
   "display_name": "Python 3 (ipykernel)",
   "language": "python",
   "name": "python3"
  },
  "language_info": {
   "codemirror_mode": {
    "name": "ipython",
    "version": 3
   },
   "file_extension": ".py",
   "mimetype": "text/x-python",
   "name": "python",
   "nbconvert_exporter": "python",
   "pygments_lexer": "ipython3",
   "version": "3.10.9"
  }
 },
 "nbformat": 4,
 "nbformat_minor": 5
}
